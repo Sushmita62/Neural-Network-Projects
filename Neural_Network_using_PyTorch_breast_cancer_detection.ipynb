{
  "nbformat": 4,
  "nbformat_minor": 0,
  "metadata": {
    "colab": {
      "provenance": [],
      "gpuType": "T4"
    },
    "kernelspec": {
      "name": "python3",
      "display_name": "Python 3"
    },
    "language_info": {
      "name": "python"
    },
    "accelerator": "GPU"
  },
  "cells": [
    {
      "cell_type": "markdown",
      "source": [
        "**Importing the dependencies**"
      ],
      "metadata": {
        "id": "M69WpkdrBcPB"
      }
    },
    {
      "cell_type": "code",
      "source": [
        "import torch\n",
        "import torch.nn as nn\n",
        "import torch.optim as optim\n",
        "from sklearn.datasets import load_breast_cancer\n",
        "from sklearn.model_selection import train_test_split\n",
        "from sklearn.preprocessing import StandardScaler\n",
        "from sklearn.metrics import accuracy_score"
      ],
      "metadata": {
        "id": "RjXSbLSnB7sz"
      },
      "execution_count": 1,
      "outputs": []
    },
    {
      "cell_type": "markdown",
      "source": [
        "Device configuration\n"
      ],
      "metadata": {
        "id": "hAFSxDrjCDGY"
      }
    },
    {
      "cell_type": "code",
      "source": [
        "# check for CUDA availability\n",
        "device = torch.device('cuda'if torch.cuda.is_available() else \"cpu\")\n",
        "print(f\"Using device:{device}\")"
      ],
      "metadata": {
        "colab": {
          "base_uri": "https://localhost:8080/"
        },
        "id": "G0W5KW8BB-9z",
        "outputId": "f268db65-f7b4-43ba-a84e-d59323c5f2b2"
      },
      "execution_count": 2,
      "outputs": [
        {
          "output_type": "stream",
          "name": "stdout",
          "text": [
            "Using device:cuda\n"
          ]
        }
      ]
    },
    {
      "cell_type": "markdown",
      "source": [
        "Data Collection and preprocessing\n"
      ],
      "metadata": {
        "id": "iKYTJORUCsKa"
      }
    },
    {
      "cell_type": "code",
      "source": [
        "data= load_breast_cancer()\n",
        "x= data.data\n",
        "y= data.target\n",
        "print(x)\n",
        "print(y)"
      ],
      "metadata": {
        "colab": {
          "base_uri": "https://localhost:8080/"
        },
        "id": "gZXcNE1rDHHu",
        "outputId": "bbf40763-3568-4726-d9a3-3ddfad4dfda9"
      },
      "execution_count": 3,
      "outputs": [
        {
          "output_type": "stream",
          "name": "stdout",
          "text": [
            "[[1.799e+01 1.038e+01 1.228e+02 ... 2.654e-01 4.601e-01 1.189e-01]\n",
            " [2.057e+01 1.777e+01 1.329e+02 ... 1.860e-01 2.750e-01 8.902e-02]\n",
            " [1.969e+01 2.125e+01 1.300e+02 ... 2.430e-01 3.613e-01 8.758e-02]\n",
            " ...\n",
            " [1.660e+01 2.808e+01 1.083e+02 ... 1.418e-01 2.218e-01 7.820e-02]\n",
            " [2.060e+01 2.933e+01 1.401e+02 ... 2.650e-01 4.087e-01 1.240e-01]\n",
            " [7.760e+00 2.454e+01 4.792e+01 ... 0.000e+00 2.871e-01 7.039e-02]]\n",
            "[0 0 0 0 0 0 0 0 0 0 0 0 0 0 0 0 0 0 0 1 1 1 0 0 0 0 0 0 0 0 0 0 0 0 0 0 0\n",
            " 1 0 0 0 0 0 0 0 0 1 0 1 1 1 1 1 0 0 1 0 0 1 1 1 1 0 1 0 0 1 1 1 1 0 1 0 0\n",
            " 1 0 1 0 0 1 1 1 0 0 1 0 0 0 1 1 1 0 1 1 0 0 1 1 1 0 0 1 1 1 1 0 1 1 0 1 1\n",
            " 1 1 1 1 1 1 0 0 0 1 0 0 1 1 1 0 0 1 0 1 0 0 1 0 0 1 1 0 1 1 0 1 1 1 1 0 1\n",
            " 1 1 1 1 1 1 1 1 0 1 1 1 1 0 0 1 0 1 1 0 0 1 1 0 0 1 1 1 1 0 1 1 0 0 0 1 0\n",
            " 1 0 1 1 1 0 1 1 0 0 1 0 0 0 0 1 0 0 0 1 0 1 0 1 1 0 1 0 0 0 0 1 1 0 0 1 1\n",
            " 1 0 1 1 1 1 1 0 0 1 1 0 1 1 0 0 1 0 1 1 1 1 0 1 1 1 1 1 0 1 0 0 0 0 0 0 0\n",
            " 0 0 0 0 0 0 0 1 1 1 1 1 1 0 1 0 1 1 0 1 1 0 1 0 0 1 1 1 1 1 1 1 1 1 1 1 1\n",
            " 1 0 1 1 0 1 0 1 1 1 1 1 1 1 1 1 1 1 1 1 1 0 1 1 1 0 1 0 1 1 1 1 0 0 0 1 1\n",
            " 1 1 0 1 0 1 0 1 1 1 0 1 1 1 1 1 1 1 0 0 0 1 1 1 1 1 1 1 1 1 1 1 0 0 1 0 0\n",
            " 0 1 0 0 1 1 1 1 1 0 1 1 1 1 1 0 1 1 1 0 1 1 0 0 1 1 1 1 1 1 0 1 1 1 1 1 1\n",
            " 1 0 1 1 1 1 1 0 1 1 0 1 1 1 1 1 1 1 1 1 1 1 1 0 1 0 0 1 0 1 1 1 1 1 0 1 1\n",
            " 0 1 0 1 1 0 1 0 1 1 1 1 1 1 1 1 0 0 1 1 1 1 1 1 0 1 1 1 1 1 1 1 1 1 1 0 1\n",
            " 1 1 1 1 1 1 0 1 0 1 1 0 1 1 1 1 1 0 0 1 0 1 0 1 1 1 1 1 0 1 1 0 1 0 1 0 0\n",
            " 1 1 1 0 1 1 1 1 1 1 1 1 1 1 1 0 1 0 0 1 1 1 1 1 1 1 1 1 1 1 1 1 1 1 1 1 1\n",
            " 1 1 1 1 1 1 1 0 0 0 0 0 0 1]\n"
          ]
        }
      ]
    },
    {
      "cell_type": "code",
      "source": [
        "print(y[:5])"
      ],
      "metadata": {
        "colab": {
          "base_uri": "https://localhost:8080/"
        },
        "id": "9Yp367hIDaS6",
        "outputId": "c5bdacfd-0fc8-40da-982a-fc61161e5e69"
      },
      "execution_count": 4,
      "outputs": [
        {
          "output_type": "stream",
          "name": "stdout",
          "text": [
            "[0 0 0 0 0]\n"
          ]
        }
      ]
    },
    {
      "cell_type": "code",
      "source": [
        "# split dataset into training and testing set\n",
        "x_train, x_test, y_train, y_test=train_test_split(x, y, test_size=0.2, random_state=42)"
      ],
      "metadata": {
        "id": "08MnntnhDfXK"
      },
      "execution_count": 5,
      "outputs": []
    },
    {
      "cell_type": "code",
      "source": [
        "print(x.shape, x_train.shape, x_test.shape)"
      ],
      "metadata": {
        "colab": {
          "base_uri": "https://localhost:8080/"
        },
        "id": "3eZjPtFaEBeF",
        "outputId": "722b58f5-3471-4f1d-d756-50293b039990"
      },
      "execution_count": 6,
      "outputs": [
        {
          "output_type": "stream",
          "name": "stdout",
          "text": [
            "(569, 30) (455, 30) (114, 30)\n"
          ]
        }
      ]
    },
    {
      "cell_type": "code",
      "source": [
        "# standardize the data using standard scalar\n",
        "scaler=StandardScaler()\n",
        "x_train=scaler.fit_transform(x_train)\n",
        "x_test=scaler.transform(x_test)"
      ],
      "metadata": {
        "id": "-bjwbGGcEcpD"
      },
      "execution_count": 7,
      "outputs": []
    },
    {
      "cell_type": "code",
      "source": [
        "type(x_train)"
      ],
      "metadata": {
        "colab": {
          "base_uri": "https://localhost:8080/"
        },
        "id": "izCpejr9IVWt",
        "outputId": "51127ff7-cbbd-40dd-c924-41a6355077ac"
      },
      "execution_count": 8,
      "outputs": [
        {
          "output_type": "execute_result",
          "data": {
            "text/plain": [
              "numpy.ndarray"
            ]
          },
          "metadata": {},
          "execution_count": 8
        }
      ]
    },
    {
      "cell_type": "code",
      "source": [
        "# convert data to PyTorch tensors and move it to GPU\n",
        "x_train=torch.tensor(x_train, dtype=torch.float32).to(device)\n",
        "x_test=torch.tensor(x_test, dtype=torch.float32).to(device)\n",
        "y_train=torch.tensor(y_train, dtype=torch.float32).to(device)\n",
        "y_test=torch.tensor(y_test, dtype=torch.float32).to(device)"
      ],
      "metadata": {
        "id": "oFL1DrBrIpnU"
      },
      "execution_count": 9,
      "outputs": []
    },
    {
      "cell_type": "code",
      "source": [
        "type(x_train)\n",
        "type(y_test)"
      ],
      "metadata": {
        "colab": {
          "base_uri": "https://localhost:8080/"
        },
        "id": "TopM5-q6JAxR",
        "outputId": "c5aa7303-936b-4f36-d850-43eb9dca73a7"
      },
      "execution_count": 10,
      "outputs": [
        {
          "output_type": "execute_result",
          "data": {
            "text/plain": [
              "torch.Tensor"
            ]
          },
          "metadata": {},
          "execution_count": 10
        }
      ]
    },
    {
      "cell_type": "markdown",
      "source": [
        "**Neural Network Architecture**"
      ],
      "metadata": {
        "id": "bXIm1sukJqIm"
      }
    },
    {
      "cell_type": "code",
      "source": [
        "#define the neural network architecture\n",
        "class NeuralNet(nn.Module):\n",
        "  def __init__(self, input_size, hidden_size, output_size): #input size= how many neurons should be in input layers\n",
        "    super(NeuralNet, self).__init__()\n",
        "    self.fc1=nn.Linear(input_size, hidden_size) # fc=fully connected layer\n",
        "    self.relu=nn.ReLU() # to capture complex relationships in data\n",
        "    self.fc2=nn.Linear(hidden_size, output_size)\n",
        "    self.sigmoid=nn.Sigmoid()\n",
        "\n",
        "  def forward(self, x):\n",
        "    out = self.fc1(x)\n",
        "    out = self.relu(out)\n",
        "    out = self.fc2(out)\n",
        "    out = self.sigmoid(out)\n",
        "    return out\n",
        "\n"
      ],
      "metadata": {
        "id": "cpG4lFG0NXrc"
      },
      "execution_count": 11,
      "outputs": []
    },
    {
      "cell_type": "code",
      "source": [
        "# define hyperparMETERS\n",
        "input_size = x_train.shape[1]\n",
        "hidden_size = 64\n",
        "output_size = 1\n",
        "num_epochs = 100\n",
        "learning_rate = 0.001"
      ],
      "metadata": {
        "id": "kYJ0SHNaNihH"
      },
      "execution_count": 12,
      "outputs": []
    },
    {
      "cell_type": "code",
      "source": [
        "# initialize the neural network and move it the GPU\n",
        "model = NeuralNet(input_size, hidden_size, output_size).to(device)\n"
      ],
      "metadata": {
        "id": "ob80F62UNlDm"
      },
      "execution_count": 13,
      "outputs": []
    },
    {
      "cell_type": "code",
      "source": [
        "#define loss and the optimizer\n",
        "criterion = nn.BCELoss()\n",
        "optimizer = optim.Adam(model.parameters(), lr=learning_rate)"
      ],
      "metadata": {
        "id": "xFMVmKS0dliK"
      },
      "execution_count": 14,
      "outputs": []
    },
    {
      "cell_type": "code",
      "source": [
        "# training the model\n",
        "for epoch in range(num_epochs):\n",
        "  model.train()\n",
        "  optimizer.zero_grad()\n",
        "  outputs = model(x_train)\n",
        "  loss = criterion(outputs, y_train.view(-1,1))\n",
        "  loss.backward()\n",
        "  optimizer.step()\n",
        "\n",
        "  # calculate accuracy\n",
        "  with torch.no_grad():\n",
        "    predicted = outputs.round()\n",
        "    correct = (predicted == y_train.view(-1,1)).float().sum()\n",
        "    accuracy = correct/y_train.size(0)\n",
        "\n",
        "  if (epoch+1) % 10 == 0:\n",
        "    print(f\"Epoch[{epoch+1}/{num_epochs}], Loss: {loss.item():.4f}, Accuracy: {accuracy.item() * 100:.2f}%\")\n"
      ],
      "metadata": {
        "colab": {
          "base_uri": "https://localhost:8080/"
        },
        "id": "guZvYenzezTv",
        "outputId": "bbcdc2c8-fc72-474e-aa6e-f2ae7dae7b32"
      },
      "execution_count": 15,
      "outputs": [
        {
          "output_type": "stream",
          "name": "stdout",
          "text": [
            "Epoch[10/100], Loss: 0.5325, Accuracy: 88.13%\n",
            "Epoch[20/100], Loss: 0.4195, Accuracy: 91.43%\n",
            "Epoch[30/100], Loss: 0.3349, Accuracy: 93.19%\n",
            "Epoch[40/100], Loss: 0.2710, Accuracy: 94.95%\n",
            "Epoch[50/100], Loss: 0.2236, Accuracy: 95.60%\n",
            "Epoch[60/100], Loss: 0.1889, Accuracy: 96.70%\n",
            "Epoch[70/100], Loss: 0.1634, Accuracy: 96.70%\n",
            "Epoch[80/100], Loss: 0.1441, Accuracy: 96.92%\n",
            "Epoch[90/100], Loss: 0.1291, Accuracy: 97.14%\n",
            "Epoch[100/100], Loss: 0.1174, Accuracy: 97.36%\n"
          ]
        }
      ]
    },
    {
      "cell_type": "markdown",
      "source": [
        "Model Evaluation"
      ],
      "metadata": {
        "id": "rZ9JKX9-iNw6"
      }
    },
    {
      "cell_type": "code",
      "source": [
        "with torch.no_grad():\n",
        "    model.eval()\n",
        "\n",
        "    # Evaluation on training set\n",
        "    train_outputs = model(x_train)\n",
        "    train_predicted = train_outputs.round()\n",
        "    train_accuracy = accuracy_score(y_train.cpu().numpy(), train_predicted.cpu().numpy())\n",
        "\n",
        "    # Evaluation on test set\n",
        "    test_outputs = model(x_test)\n",
        "    test_predicted = test_outputs.round()\n",
        "    test_accuracy = accuracy_score(y_test.cpu().numpy(), test_predicted.cpu().numpy())\n",
        "\n",
        "    print(f\"\\nTraining Set Accuracy: {train_accuracy * 100:.2f}%\")\n",
        "    print(f\"Test Set Accuracy: {test_accuracy * 100:.2f}%\")"
      ],
      "metadata": {
        "colab": {
          "base_uri": "https://localhost:8080/"
        },
        "id": "jcm_vz347Vxl",
        "outputId": "b099963b-d9b3-47c4-89f2-86507859df63"
      },
      "execution_count": 16,
      "outputs": [
        {
          "output_type": "stream",
          "name": "stdout",
          "text": [
            "\n",
            "Training Set Accuracy: 97.36%\n",
            "Test Set Accuracy: 96.49%\n"
          ]
        }
      ]
    },
    {
      "cell_type": "code",
      "source": [
        "# evaluation on training set\n",
        "model.eval()\n",
        "with torch.no_grad():\n",
        "  outputs=model(x_train)\n",
        "  predicted=outputs.round()\n",
        "  correct=(predicted==y_train.view(-1,1)).float().sum()\n",
        "  accuracy=correct/y_train.size(0)\n",
        "  print(f\"Accuracy on training data: {accuracy.item()*100:.2f}%\")"
      ],
      "metadata": {
        "colab": {
          "base_uri": "https://localhost:8080/"
        },
        "id": "DHWVv777fTQw",
        "outputId": "3030734e-a968-4569-f4ec-9628e429813d"
      },
      "execution_count": 17,
      "outputs": [
        {
          "output_type": "stream",
          "name": "stdout",
          "text": [
            "Accuracy on training data: 97.36%\n"
          ]
        }
      ]
    },
    {
      "cell_type": "code",
      "source": [
        "# evaluation on test set\n",
        "model.eval()\n",
        "with torch.no_grad():\n",
        "  outputs=model(x_test)\n",
        "  predicted=outputs.round()\n",
        "  correct=(predicted==y_test.view(-1,1)).float().sum()\n",
        "  accuracy=correct/y_test.size(0)\n",
        "  print(f\"Accuracy on test data: {accuracy.item()*100:.2f}%\")"
      ],
      "metadata": {
        "colab": {
          "base_uri": "https://localhost:8080/"
        },
        "id": "T7fTLIHYfTHq",
        "outputId": "3c46092d-2330-4022-894f-3ad108bf9f6c"
      },
      "execution_count": 21,
      "outputs": [
        {
          "output_type": "stream",
          "name": "stdout",
          "text": [
            "Accuracy on test data: 96.49%\n"
          ]
        }
      ]
    }
  ]
}